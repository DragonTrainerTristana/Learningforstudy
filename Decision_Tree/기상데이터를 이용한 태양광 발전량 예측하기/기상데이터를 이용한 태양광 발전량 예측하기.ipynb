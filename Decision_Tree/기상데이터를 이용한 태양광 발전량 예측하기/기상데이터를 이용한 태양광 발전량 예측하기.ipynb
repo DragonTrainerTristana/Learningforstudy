{
  "nbformat": 4,
  "nbformat_minor": 0,
  "metadata": {
    "colab": {
      "name": "Untitled20.ipynb",
      "provenance": []
    },
    "kernelspec": {
      "name": "python3",
      "display_name": "Python 3"
    },
    "language_info": {
      "name": "python"
    }
  },
  "cells": [
    {
      "cell_type": "code",
      "metadata": {
        "id": "M66C9Z4L-8N7"
      },
      "source": [
        "import pandas as pd\n",
        "import numpy as np\n",
        "\n",
        "df = pd.read_csv(\"data.csv\")"
      ],
      "execution_count": 9,
      "outputs": []
    },
    {
      "cell_type": "code",
      "metadata": {
        "colab": {
          "base_uri": "https://localhost:8080/",
          "height": 419
        },
        "id": "DueB6RM6_DQN",
        "outputId": "3f2a980e-9e77-400c-a3a2-91cbb5b79a2b"
      },
      "source": [
        "df"
      ],
      "execution_count": 2,
      "outputs": [
        {
          "output_type": "execute_result",
          "data": {
            "text/html": [
              "<div>\n",
              "<style scoped>\n",
              "    .dataframe tbody tr th:only-of-type {\n",
              "        vertical-align: middle;\n",
              "    }\n",
              "\n",
              "    .dataframe tbody tr th {\n",
              "        vertical-align: top;\n",
              "    }\n",
              "\n",
              "    .dataframe thead th {\n",
              "        text-align: right;\n",
              "    }\n",
              "</style>\n",
              "<table border=\"1\" class=\"dataframe\">\n",
              "  <thead>\n",
              "    <tr style=\"text-align: right;\">\n",
              "      <th></th>\n",
              "      <th>Day</th>\n",
              "      <th>Hour</th>\n",
              "      <th>Minute</th>\n",
              "      <th>DHI</th>\n",
              "      <th>DNI</th>\n",
              "      <th>WS</th>\n",
              "      <th>RH</th>\n",
              "      <th>T</th>\n",
              "      <th>TARGET</th>\n",
              "    </tr>\n",
              "  </thead>\n",
              "  <tbody>\n",
              "    <tr>\n",
              "      <th>0</th>\n",
              "      <td>102</td>\n",
              "      <td>0</td>\n",
              "      <td>0</td>\n",
              "      <td>0</td>\n",
              "      <td>0</td>\n",
              "      <td>1.4</td>\n",
              "      <td>57.76</td>\n",
              "      <td>0</td>\n",
              "      <td>0.000000</td>\n",
              "    </tr>\n",
              "    <tr>\n",
              "      <th>1</th>\n",
              "      <td>99</td>\n",
              "      <td>15</td>\n",
              "      <td>0</td>\n",
              "      <td>222</td>\n",
              "      <td>18</td>\n",
              "      <td>1.3</td>\n",
              "      <td>26.82</td>\n",
              "      <td>13</td>\n",
              "      <td>21.957266</td>\n",
              "    </tr>\n",
              "    <tr>\n",
              "      <th>2</th>\n",
              "      <td>31</td>\n",
              "      <td>4</td>\n",
              "      <td>0</td>\n",
              "      <td>0</td>\n",
              "      <td>0</td>\n",
              "      <td>2.6</td>\n",
              "      <td>84.94</td>\n",
              "      <td>-6</td>\n",
              "      <td>0.000000</td>\n",
              "    </tr>\n",
              "    <tr>\n",
              "      <th>3</th>\n",
              "      <td>40</td>\n",
              "      <td>18</td>\n",
              "      <td>30</td>\n",
              "      <td>0</td>\n",
              "      <td>0</td>\n",
              "      <td>1.5</td>\n",
              "      <td>89.18</td>\n",
              "      <td>2</td>\n",
              "      <td>0.000000</td>\n",
              "    </tr>\n",
              "    <tr>\n",
              "      <th>4</th>\n",
              "      <td>191</td>\n",
              "      <td>1</td>\n",
              "      <td>30</td>\n",
              "      <td>0</td>\n",
              "      <td>0</td>\n",
              "      <td>2.4</td>\n",
              "      <td>84.35</td>\n",
              "      <td>12</td>\n",
              "      <td>0.000000</td>\n",
              "    </tr>\n",
              "    <tr>\n",
              "      <th>...</th>\n",
              "      <td>...</td>\n",
              "      <td>...</td>\n",
              "      <td>...</td>\n",
              "      <td>...</td>\n",
              "      <td>...</td>\n",
              "      <td>...</td>\n",
              "      <td>...</td>\n",
              "      <td>...</td>\n",
              "      <td>...</td>\n",
              "    </tr>\n",
              "    <tr>\n",
              "      <th>8995</th>\n",
              "      <td>119</td>\n",
              "      <td>11</td>\n",
              "      <td>0</td>\n",
              "      <td>239</td>\n",
              "      <td>16</td>\n",
              "      <td>0.8</td>\n",
              "      <td>24.98</td>\n",
              "      <td>23</td>\n",
              "      <td>23.831336</td>\n",
              "    </tr>\n",
              "    <tr>\n",
              "      <th>8996</th>\n",
              "      <td>108</td>\n",
              "      <td>3</td>\n",
              "      <td>30</td>\n",
              "      <td>0</td>\n",
              "      <td>0</td>\n",
              "      <td>5.6</td>\n",
              "      <td>87.78</td>\n",
              "      <td>-1</td>\n",
              "      <td>0.000000</td>\n",
              "    </tr>\n",
              "    <tr>\n",
              "      <th>8997</th>\n",
              "      <td>112</td>\n",
              "      <td>7</td>\n",
              "      <td>0</td>\n",
              "      <td>104</td>\n",
              "      <td>525</td>\n",
              "      <td>2.8</td>\n",
              "      <td>47.82</td>\n",
              "      <td>11</td>\n",
              "      <td>26.368066</td>\n",
              "    </tr>\n",
              "    <tr>\n",
              "      <th>8998</th>\n",
              "      <td>17</td>\n",
              "      <td>22</td>\n",
              "      <td>0</td>\n",
              "      <td>0</td>\n",
              "      <td>0</td>\n",
              "      <td>3.3</td>\n",
              "      <td>72.11</td>\n",
              "      <td>0</td>\n",
              "      <td>0.000000</td>\n",
              "    </tr>\n",
              "    <tr>\n",
              "      <th>8999</th>\n",
              "      <td>151</td>\n",
              "      <td>11</td>\n",
              "      <td>0</td>\n",
              "      <td>444</td>\n",
              "      <td>54</td>\n",
              "      <td>0.6</td>\n",
              "      <td>31.53</td>\n",
              "      <td>26</td>\n",
              "      <td>46.441426</td>\n",
              "    </tr>\n",
              "  </tbody>\n",
              "</table>\n",
              "<p>9000 rows × 9 columns</p>\n",
              "</div>"
            ],
            "text/plain": [
              "      Day  Hour  Minute  DHI  DNI   WS     RH   T     TARGET\n",
              "0     102     0       0    0    0  1.4  57.76   0   0.000000\n",
              "1      99    15       0  222   18  1.3  26.82  13  21.957266\n",
              "2      31     4       0    0    0  2.6  84.94  -6   0.000000\n",
              "3      40    18      30    0    0  1.5  89.18   2   0.000000\n",
              "4     191     1      30    0    0  2.4  84.35  12   0.000000\n",
              "...   ...   ...     ...  ...  ...  ...    ...  ..        ...\n",
              "8995  119    11       0  239   16  0.8  24.98  23  23.831336\n",
              "8996  108     3      30    0    0  5.6  87.78  -1   0.000000\n",
              "8997  112     7       0  104  525  2.8  47.82  11  26.368066\n",
              "8998   17    22       0    0    0  3.3  72.11   0   0.000000\n",
              "8999  151    11       0  444   54  0.6  31.53  26  46.441426\n",
              "\n",
              "[9000 rows x 9 columns]"
            ]
          },
          "metadata": {
            "tags": []
          },
          "execution_count": 2
        }
      ]
    },
    {
      "cell_type": "code",
      "metadata": {
        "id": "s7rYESZ-_QJy"
      },
      "source": [
        "X = df.iloc[0 :,[0,1,2,3,4,5,6,7]]\n",
        "Y = df.iloc[0 : , -1]"
      ],
      "execution_count": 10,
      "outputs": []
    },
    {
      "cell_type": "code",
      "metadata": {
        "colab": {
          "base_uri": "https://localhost:8080/",
          "height": 419
        },
        "id": "T8H5WZMn_kxr",
        "outputId": "574dd1b7-19e8-4eaf-bacc-6657fde162a7"
      },
      "source": [
        "X"
      ],
      "execution_count": 11,
      "outputs": [
        {
          "output_type": "execute_result",
          "data": {
            "text/html": [
              "<div>\n",
              "<style scoped>\n",
              "    .dataframe tbody tr th:only-of-type {\n",
              "        vertical-align: middle;\n",
              "    }\n",
              "\n",
              "    .dataframe tbody tr th {\n",
              "        vertical-align: top;\n",
              "    }\n",
              "\n",
              "    .dataframe thead th {\n",
              "        text-align: right;\n",
              "    }\n",
              "</style>\n",
              "<table border=\"1\" class=\"dataframe\">\n",
              "  <thead>\n",
              "    <tr style=\"text-align: right;\">\n",
              "      <th></th>\n",
              "      <th>Day</th>\n",
              "      <th>Hour</th>\n",
              "      <th>Minute</th>\n",
              "      <th>DHI</th>\n",
              "      <th>DNI</th>\n",
              "      <th>WS</th>\n",
              "      <th>RH</th>\n",
              "      <th>T</th>\n",
              "    </tr>\n",
              "  </thead>\n",
              "  <tbody>\n",
              "    <tr>\n",
              "      <th>0</th>\n",
              "      <td>102</td>\n",
              "      <td>0</td>\n",
              "      <td>0</td>\n",
              "      <td>0</td>\n",
              "      <td>0</td>\n",
              "      <td>1.4</td>\n",
              "      <td>57.76</td>\n",
              "      <td>0</td>\n",
              "    </tr>\n",
              "    <tr>\n",
              "      <th>1</th>\n",
              "      <td>99</td>\n",
              "      <td>15</td>\n",
              "      <td>0</td>\n",
              "      <td>222</td>\n",
              "      <td>18</td>\n",
              "      <td>1.3</td>\n",
              "      <td>26.82</td>\n",
              "      <td>13</td>\n",
              "    </tr>\n",
              "    <tr>\n",
              "      <th>2</th>\n",
              "      <td>31</td>\n",
              "      <td>4</td>\n",
              "      <td>0</td>\n",
              "      <td>0</td>\n",
              "      <td>0</td>\n",
              "      <td>2.6</td>\n",
              "      <td>84.94</td>\n",
              "      <td>-6</td>\n",
              "    </tr>\n",
              "    <tr>\n",
              "      <th>3</th>\n",
              "      <td>40</td>\n",
              "      <td>18</td>\n",
              "      <td>30</td>\n",
              "      <td>0</td>\n",
              "      <td>0</td>\n",
              "      <td>1.5</td>\n",
              "      <td>89.18</td>\n",
              "      <td>2</td>\n",
              "    </tr>\n",
              "    <tr>\n",
              "      <th>4</th>\n",
              "      <td>191</td>\n",
              "      <td>1</td>\n",
              "      <td>30</td>\n",
              "      <td>0</td>\n",
              "      <td>0</td>\n",
              "      <td>2.4</td>\n",
              "      <td>84.35</td>\n",
              "      <td>12</td>\n",
              "    </tr>\n",
              "    <tr>\n",
              "      <th>...</th>\n",
              "      <td>...</td>\n",
              "      <td>...</td>\n",
              "      <td>...</td>\n",
              "      <td>...</td>\n",
              "      <td>...</td>\n",
              "      <td>...</td>\n",
              "      <td>...</td>\n",
              "      <td>...</td>\n",
              "    </tr>\n",
              "    <tr>\n",
              "      <th>8995</th>\n",
              "      <td>119</td>\n",
              "      <td>11</td>\n",
              "      <td>0</td>\n",
              "      <td>239</td>\n",
              "      <td>16</td>\n",
              "      <td>0.8</td>\n",
              "      <td>24.98</td>\n",
              "      <td>23</td>\n",
              "    </tr>\n",
              "    <tr>\n",
              "      <th>8996</th>\n",
              "      <td>108</td>\n",
              "      <td>3</td>\n",
              "      <td>30</td>\n",
              "      <td>0</td>\n",
              "      <td>0</td>\n",
              "      <td>5.6</td>\n",
              "      <td>87.78</td>\n",
              "      <td>-1</td>\n",
              "    </tr>\n",
              "    <tr>\n",
              "      <th>8997</th>\n",
              "      <td>112</td>\n",
              "      <td>7</td>\n",
              "      <td>0</td>\n",
              "      <td>104</td>\n",
              "      <td>525</td>\n",
              "      <td>2.8</td>\n",
              "      <td>47.82</td>\n",
              "      <td>11</td>\n",
              "    </tr>\n",
              "    <tr>\n",
              "      <th>8998</th>\n",
              "      <td>17</td>\n",
              "      <td>22</td>\n",
              "      <td>0</td>\n",
              "      <td>0</td>\n",
              "      <td>0</td>\n",
              "      <td>3.3</td>\n",
              "      <td>72.11</td>\n",
              "      <td>0</td>\n",
              "    </tr>\n",
              "    <tr>\n",
              "      <th>8999</th>\n",
              "      <td>151</td>\n",
              "      <td>11</td>\n",
              "      <td>0</td>\n",
              "      <td>444</td>\n",
              "      <td>54</td>\n",
              "      <td>0.6</td>\n",
              "      <td>31.53</td>\n",
              "      <td>26</td>\n",
              "    </tr>\n",
              "  </tbody>\n",
              "</table>\n",
              "<p>9000 rows × 8 columns</p>\n",
              "</div>"
            ],
            "text/plain": [
              "      Day  Hour  Minute  DHI  DNI   WS     RH   T\n",
              "0     102     0       0    0    0  1.4  57.76   0\n",
              "1      99    15       0  222   18  1.3  26.82  13\n",
              "2      31     4       0    0    0  2.6  84.94  -6\n",
              "3      40    18      30    0    0  1.5  89.18   2\n",
              "4     191     1      30    0    0  2.4  84.35  12\n",
              "...   ...   ...     ...  ...  ...  ...    ...  ..\n",
              "8995  119    11       0  239   16  0.8  24.98  23\n",
              "8996  108     3      30    0    0  5.6  87.78  -1\n",
              "8997  112     7       0  104  525  2.8  47.82  11\n",
              "8998   17    22       0    0    0  3.3  72.11   0\n",
              "8999  151    11       0  444   54  0.6  31.53  26\n",
              "\n",
              "[9000 rows x 8 columns]"
            ]
          },
          "metadata": {
            "tags": []
          },
          "execution_count": 11
        }
      ]
    },
    {
      "cell_type": "code",
      "metadata": {
        "colab": {
          "base_uri": "https://localhost:8080/"
        },
        "id": "rzlT72IW_lpa",
        "outputId": "1c48ab82-899d-4f76-cd3e-765092f35f70"
      },
      "source": [
        "Y"
      ],
      "execution_count": 12,
      "outputs": [
        {
          "output_type": "execute_result",
          "data": {
            "text/plain": [
              "0        0.000000\n",
              "1       21.957266\n",
              "2        0.000000\n",
              "3        0.000000\n",
              "4        0.000000\n",
              "          ...    \n",
              "8995    23.831336\n",
              "8996     0.000000\n",
              "8997    26.368066\n",
              "8998     0.000000\n",
              "8999    46.441426\n",
              "Name: TARGET, Length: 9000, dtype: float64"
            ]
          },
          "metadata": {
            "tags": []
          },
          "execution_count": 12
        }
      ]
    },
    {
      "cell_type": "code",
      "metadata": {
        "id": "TvGcWNiF_Dh8"
      },
      "source": [
        "from sklearn.preprocessing import StandardScaler\n",
        "\n",
        "\n",
        "sc = StandardScaler()\n",
        "\n",
        "sc.fit(X)\n",
        "\n",
        "X = sc.transform(X)"
      ],
      "execution_count": 13,
      "outputs": []
    },
    {
      "cell_type": "code",
      "metadata": {
        "colab": {
          "base_uri": "https://localhost:8080/"
        },
        "id": "XAWAoFMR_NmV",
        "outputId": "f20f61f4-6c8b-4512-d4da-ebe8d521fbde"
      },
      "source": [
        "from sklearn.tree import DecisionTreeRegressor\n",
        "\n",
        "regr = DecisionTreeRegressor(random_state=0)\n",
        "regr.fit(X,Y)"
      ],
      "execution_count": 15,
      "outputs": [
        {
          "output_type": "execute_result",
          "data": {
            "text/plain": [
              "DecisionTreeRegressor(ccp_alpha=0.0, criterion='mse', max_depth=None,\n",
              "                      max_features=None, max_leaf_nodes=None,\n",
              "                      min_impurity_decrease=0.0, min_impurity_split=None,\n",
              "                      min_samples_leaf=1, min_samples_split=2,\n",
              "                      min_weight_fraction_leaf=0.0, presort='deprecated',\n",
              "                      random_state=0, splitter='best')"
            ]
          },
          "metadata": {
            "tags": []
          },
          "execution_count": 15
        }
      ]
    },
    {
      "cell_type": "code",
      "metadata": {
        "id": "hHpS8DH6AR6t"
      },
      "source": [
        "submit = pd.read_csv(\"X_test.csv\")"
      ],
      "execution_count": 16,
      "outputs": []
    },
    {
      "cell_type": "code",
      "metadata": {
        "id": "DnwPRL3TCD2j"
      },
      "source": [
        "submit = sc.transform(submit)"
      ],
      "execution_count": 17,
      "outputs": []
    },
    {
      "cell_type": "code",
      "metadata": {
        "id": "bqFdSrH_CFUk"
      },
      "source": [
        "submit = regr.predict(submit)"
      ],
      "execution_count": 18,
      "outputs": []
    },
    {
      "cell_type": "code",
      "metadata": {
        "colab": {
          "base_uri": "https://localhost:8080/"
        },
        "id": "xJPsRbz2CH0d",
        "outputId": "717bdd75-aa97-4e9e-c686-dd557ef57d33"
      },
      "source": [
        "len(submit)"
      ],
      "execution_count": 19,
      "outputs": [
        {
          "output_type": "execute_result",
          "data": {
            "text/plain": [
              "1000"
            ]
          },
          "metadata": {
            "tags": []
          },
          "execution_count": 19
        }
      ]
    },
    {
      "cell_type": "code",
      "metadata": {
        "id": "m9hkc--eCIzU"
      },
      "source": [
        "result = pd.DataFrame({'INDEX' :range(1000),'TARGET' : submit})"
      ],
      "execution_count": 20,
      "outputs": []
    },
    {
      "cell_type": "code",
      "metadata": {
        "id": "sHT_CIIlCRKM"
      },
      "source": [
        "result.to_csv(\"태양광발전회귀.csv\",index = False)"
      ],
      "execution_count": 22,
      "outputs": []
    },
    {
      "cell_type": "code",
      "metadata": {
        "id": "q4V3gB4LCVxc"
      },
      "source": [
        ""
      ],
      "execution_count": null,
      "outputs": []
    }
  ]
}