{
  "nbformat": 4,
  "nbformat_minor": 0,
  "metadata": {
    "colab": {
      "name": "식물 재배하기",
      "provenance": []
    },
    "kernelspec": {
      "name": "python3",
      "display_name": "Python 3"
    },
    "language_info": {
      "name": "python"
    }
  },
  "cells": [
    {
      "cell_type": "code",
      "metadata": {
        "id": "kxBBzcYyEZdy"
      },
      "source": [
        "import pandas as pd\n",
        "import numpy as np\n",
        "from sklearn.preprocessing import LabelEncoder\n",
        "from sklearn.model_selection import train_test_split\n",
        "from sklearn.neighbors import KNeighborsClassifier\n",
        "from sklearn.preprocessing import StandardScaler\n",
        "from sklearn.metrics import accuracy_score\n",
        "\n",
        "sc = StandardScaler()"
      ],
      "execution_count": 27,
      "outputs": []
    },
    {
      "cell_type": "code",
      "metadata": {
        "id": "ioGGCdeFEgsC"
      },
      "source": [
        "df_data = pd.read_csv('train.csv')"
      ],
      "execution_count": 28,
      "outputs": []
    },
    {
      "cell_type": "code",
      "metadata": {
        "colab": {
          "base_uri": "https://localhost:8080/",
          "height": 419
        },
        "id": "jc2SaM84ElLZ",
        "outputId": "c831260a-af6c-4483-b872-3917fa8eabef"
      },
      "source": [
        "df_data"
      ],
      "execution_count": 29,
      "outputs": [
        {
          "output_type": "execute_result",
          "data": {
            "text/html": [
              "<div>\n",
              "<style scoped>\n",
              "    .dataframe tbody tr th:only-of-type {\n",
              "        vertical-align: middle;\n",
              "    }\n",
              "\n",
              "    .dataframe tbody tr th {\n",
              "        vertical-align: top;\n",
              "    }\n",
              "\n",
              "    .dataframe thead th {\n",
              "        text-align: right;\n",
              "    }\n",
              "</style>\n",
              "<table border=\"1\" class=\"dataframe\">\n",
              "  <thead>\n",
              "    <tr style=\"text-align: right;\">\n",
              "      <th></th>\n",
              "      <th>N</th>\n",
              "      <th>P</th>\n",
              "      <th>K</th>\n",
              "      <th>temperature</th>\n",
              "      <th>humidity</th>\n",
              "      <th>ph</th>\n",
              "      <th>rainfall</th>\n",
              "      <th>label</th>\n",
              "    </tr>\n",
              "  </thead>\n",
              "  <tbody>\n",
              "    <tr>\n",
              "      <th>0</th>\n",
              "      <td>22</td>\n",
              "      <td>36</td>\n",
              "      <td>16</td>\n",
              "      <td>30.581395</td>\n",
              "      <td>50.771481</td>\n",
              "      <td>8.184229</td>\n",
              "      <td>64.585596</td>\n",
              "      <td>mothbeans</td>\n",
              "    </tr>\n",
              "    <tr>\n",
              "      <th>1</th>\n",
              "      <td>18</td>\n",
              "      <td>27</td>\n",
              "      <td>41</td>\n",
              "      <td>22.365094</td>\n",
              "      <td>92.308824</td>\n",
              "      <td>7.175344</td>\n",
              "      <td>104.821633</td>\n",
              "      <td>pomegranate</td>\n",
              "    </tr>\n",
              "    <tr>\n",
              "      <th>2</th>\n",
              "      <td>61</td>\n",
              "      <td>68</td>\n",
              "      <td>50</td>\n",
              "      <td>35.214628</td>\n",
              "      <td>91.497251</td>\n",
              "      <td>6.793245</td>\n",
              "      <td>243.074507</td>\n",
              "      <td>papaya</td>\n",
              "    </tr>\n",
              "    <tr>\n",
              "      <th>3</th>\n",
              "      <td>26</td>\n",
              "      <td>72</td>\n",
              "      <td>22</td>\n",
              "      <td>28.767949</td>\n",
              "      <td>37.577921</td>\n",
              "      <td>4.674942</td>\n",
              "      <td>91.720849</td>\n",
              "      <td>pigeonpeas</td>\n",
              "    </tr>\n",
              "    <tr>\n",
              "      <th>4</th>\n",
              "      <td>2</td>\n",
              "      <td>140</td>\n",
              "      <td>197</td>\n",
              "      <td>22.697801</td>\n",
              "      <td>92.822234</td>\n",
              "      <td>5.534567</td>\n",
              "      <td>105.050823</td>\n",
              "      <td>apple</td>\n",
              "    </tr>\n",
              "    <tr>\n",
              "      <th>...</th>\n",
              "      <td>...</td>\n",
              "      <td>...</td>\n",
              "      <td>...</td>\n",
              "      <td>...</td>\n",
              "      <td>...</td>\n",
              "      <td>...</td>\n",
              "      <td>...</td>\n",
              "      <td>...</td>\n",
              "    </tr>\n",
              "    <tr>\n",
              "      <th>1645</th>\n",
              "      <td>10</td>\n",
              "      <td>5</td>\n",
              "      <td>5</td>\n",
              "      <td>21.213070</td>\n",
              "      <td>91.353492</td>\n",
              "      <td>7.817846</td>\n",
              "      <td>112.983436</td>\n",
              "      <td>orange</td>\n",
              "    </tr>\n",
              "    <tr>\n",
              "      <th>1646</th>\n",
              "      <td>108</td>\n",
              "      <td>94</td>\n",
              "      <td>47</td>\n",
              "      <td>27.359116</td>\n",
              "      <td>84.546250</td>\n",
              "      <td>6.387431</td>\n",
              "      <td>90.812505</td>\n",
              "      <td>banana</td>\n",
              "    </tr>\n",
              "    <tr>\n",
              "      <th>1647</th>\n",
              "      <td>11</td>\n",
              "      <td>36</td>\n",
              "      <td>31</td>\n",
              "      <td>27.920633</td>\n",
              "      <td>51.779659</td>\n",
              "      <td>6.475449</td>\n",
              "      <td>100.258567</td>\n",
              "      <td>mango</td>\n",
              "    </tr>\n",
              "    <tr>\n",
              "      <th>1648</th>\n",
              "      <td>11</td>\n",
              "      <td>124</td>\n",
              "      <td>204</td>\n",
              "      <td>13.429886</td>\n",
              "      <td>80.066340</td>\n",
              "      <td>6.361141</td>\n",
              "      <td>71.400430</td>\n",
              "      <td>grapes</td>\n",
              "    </tr>\n",
              "    <tr>\n",
              "      <th>1649</th>\n",
              "      <td>32</td>\n",
              "      <td>78</td>\n",
              "      <td>22</td>\n",
              "      <td>23.970814</td>\n",
              "      <td>62.355576</td>\n",
              "      <td>7.007038</td>\n",
              "      <td>53.409060</td>\n",
              "      <td>lentil</td>\n",
              "    </tr>\n",
              "  </tbody>\n",
              "</table>\n",
              "<p>1650 rows × 8 columns</p>\n",
              "</div>"
            ],
            "text/plain": [
              "        N    P    K  temperature   humidity        ph    rainfall        label\n",
              "0      22   36   16    30.581395  50.771481  8.184229   64.585596    mothbeans\n",
              "1      18   27   41    22.365094  92.308824  7.175344  104.821633  pomegranate\n",
              "2      61   68   50    35.214628  91.497251  6.793245  243.074507       papaya\n",
              "3      26   72   22    28.767949  37.577921  4.674942   91.720849   pigeonpeas\n",
              "4       2  140  197    22.697801  92.822234  5.534567  105.050823        apple\n",
              "...   ...  ...  ...          ...        ...       ...         ...          ...\n",
              "1645   10    5    5    21.213070  91.353492  7.817846  112.983436       orange\n",
              "1646  108   94   47    27.359116  84.546250  6.387431   90.812505       banana\n",
              "1647   11   36   31    27.920633  51.779659  6.475449  100.258567        mango\n",
              "1648   11  124  204    13.429886  80.066340  6.361141   71.400430       grapes\n",
              "1649   32   78   22    23.970814  62.355576  7.007038   53.409060       lentil\n",
              "\n",
              "[1650 rows x 8 columns]"
            ]
          },
          "metadata": {
            "tags": []
          },
          "execution_count": 29
        }
      ]
    },
    {
      "cell_type": "code",
      "metadata": {
        "id": "J_Ae_ew_EmKw"
      },
      "source": [
        "X = df_data.drop('label',axis = 1)\n",
        "Y = df_data['label']"
      ],
      "execution_count": 30,
      "outputs": []
    },
    {
      "cell_type": "code",
      "metadata": {
        "colab": {
          "base_uri": "https://localhost:8080/"
        },
        "id": "ptp3PjvhErIJ",
        "outputId": "89c8787c-94d7-4b9a-fb80-6cb66f77c011"
      },
      "source": [
        "classle = LabelEncoder()\n",
        "\n",
        "Y = classle.fit_transform(df_data['label'].values)\n",
        "print('labels : ',np.unique(Y))\n",
        "\n"
      ],
      "execution_count": 31,
      "outputs": [
        {
          "output_type": "stream",
          "text": [
            "labels :  [ 0  1  2  3  4  5  6  7  8  9 10 11 12 13 14 15 16 17 18 19 20 21]\n"
          ],
          "name": "stdout"
        }
      ]
    },
    {
      "cell_type": "code",
      "metadata": {
        "id": "nzsLBVy2E11w"
      },
      "source": [
        "X_train, X_test, Y_train, Y_test = train_test_split(X,Y,test_size=0.1,random_state=0,stratify=Y)"
      ],
      "execution_count": 57,
      "outputs": []
    },
    {
      "cell_type": "code",
      "metadata": {
        "colab": {
          "base_uri": "https://localhost:8080/"
        },
        "id": "TOC_eJPtE_Th",
        "outputId": "7801daac-9350-4e4c-96a4-499a957c6b48"
      },
      "source": [
        "knn = KNeighborsClassifier(n_neighbors=5,p = 2)\n",
        "knn.fit(X_train,Y_train)"
      ],
      "execution_count": 58,
      "outputs": [
        {
          "output_type": "execute_result",
          "data": {
            "text/plain": [
              "KNeighborsClassifier(algorithm='auto', leaf_size=30, metric='minkowski',\n",
              "                     metric_params=None, n_jobs=None, n_neighbors=5, p=2,\n",
              "                     weights='uniform')"
            ]
          },
          "metadata": {
            "tags": []
          },
          "execution_count": 58
        }
      ]
    },
    {
      "cell_type": "code",
      "metadata": {
        "colab": {
          "base_uri": "https://localhost:8080/"
        },
        "id": "tpYpEK-EFGNz",
        "outputId": "a624beb9-968a-4d82-8a95-fef7eb7f8ff8"
      },
      "source": [
        "Y_train_pred = knn.predict(X_train)\n",
        "Y_test_pred = knn.predict(X_test)\n",
        "\n",
        "accuracy_score(Y_test, Y_test_pred)"
      ],
      "execution_count": 59,
      "outputs": [
        {
          "output_type": "execute_result",
          "data": {
            "text/plain": [
              "0.9878787878787879"
            ]
          },
          "metadata": {
            "tags": []
          },
          "execution_count": 59
        }
      ]
    },
    {
      "cell_type": "code",
      "metadata": {
        "colab": {
          "base_uri": "https://localhost:8080/",
          "height": 419
        },
        "id": "u2c689uIFLp5",
        "outputId": "8aa32ebf-07b2-4868-a39b-be42c85bfd25"
      },
      "source": [
        "submit_data = pd.read_csv('test.csv')\n",
        "submit_data"
      ],
      "execution_count": 60,
      "outputs": [
        {
          "output_type": "execute_result",
          "data": {
            "text/html": [
              "<div>\n",
              "<style scoped>\n",
              "    .dataframe tbody tr th:only-of-type {\n",
              "        vertical-align: middle;\n",
              "    }\n",
              "\n",
              "    .dataframe tbody tr th {\n",
              "        vertical-align: top;\n",
              "    }\n",
              "\n",
              "    .dataframe thead th {\n",
              "        text-align: right;\n",
              "    }\n",
              "</style>\n",
              "<table border=\"1\" class=\"dataframe\">\n",
              "  <thead>\n",
              "    <tr style=\"text-align: right;\">\n",
              "      <th></th>\n",
              "      <th>N</th>\n",
              "      <th>P</th>\n",
              "      <th>K</th>\n",
              "      <th>temperature</th>\n",
              "      <th>humidity</th>\n",
              "      <th>ph</th>\n",
              "      <th>rainfall</th>\n",
              "    </tr>\n",
              "  </thead>\n",
              "  <tbody>\n",
              "    <tr>\n",
              "      <th>0</th>\n",
              "      <td>101</td>\n",
              "      <td>17</td>\n",
              "      <td>47</td>\n",
              "      <td>29.494014</td>\n",
              "      <td>94.729813</td>\n",
              "      <td>6.185053</td>\n",
              "      <td>26.308209</td>\n",
              "    </tr>\n",
              "    <tr>\n",
              "      <th>1</th>\n",
              "      <td>98</td>\n",
              "      <td>8</td>\n",
              "      <td>51</td>\n",
              "      <td>26.179346</td>\n",
              "      <td>86.522581</td>\n",
              "      <td>6.259336</td>\n",
              "      <td>49.430510</td>\n",
              "    </tr>\n",
              "    <tr>\n",
              "      <th>2</th>\n",
              "      <td>59</td>\n",
              "      <td>62</td>\n",
              "      <td>49</td>\n",
              "      <td>43.360515</td>\n",
              "      <td>93.351916</td>\n",
              "      <td>6.941497</td>\n",
              "      <td>114.778071</td>\n",
              "    </tr>\n",
              "    <tr>\n",
              "      <th>3</th>\n",
              "      <td>44</td>\n",
              "      <td>60</td>\n",
              "      <td>55</td>\n",
              "      <td>34.280461</td>\n",
              "      <td>90.555616</td>\n",
              "      <td>6.825371</td>\n",
              "      <td>98.540477</td>\n",
              "    </tr>\n",
              "    <tr>\n",
              "      <th>4</th>\n",
              "      <td>30</td>\n",
              "      <td>137</td>\n",
              "      <td>200</td>\n",
              "      <td>22.914300</td>\n",
              "      <td>90.704756</td>\n",
              "      <td>5.603413</td>\n",
              "      <td>118.604465</td>\n",
              "    </tr>\n",
              "    <tr>\n",
              "      <th>...</th>\n",
              "      <td>...</td>\n",
              "      <td>...</td>\n",
              "      <td>...</td>\n",
              "      <td>...</td>\n",
              "      <td>...</td>\n",
              "      <td>...</td>\n",
              "      <td>...</td>\n",
              "    </tr>\n",
              "    <tr>\n",
              "      <th>545</th>\n",
              "      <td>100</td>\n",
              "      <td>32</td>\n",
              "      <td>26</td>\n",
              "      <td>25.234661</td>\n",
              "      <td>57.531615</td>\n",
              "      <td>6.043486</td>\n",
              "      <td>124.226174</td>\n",
              "    </tr>\n",
              "    <tr>\n",
              "      <th>546</th>\n",
              "      <td>50</td>\n",
              "      <td>46</td>\n",
              "      <td>52</td>\n",
              "      <td>31.182984</td>\n",
              "      <td>90.216469</td>\n",
              "      <td>6.734006</td>\n",
              "      <td>54.018724</td>\n",
              "    </tr>\n",
              "    <tr>\n",
              "      <th>547</th>\n",
              "      <td>30</td>\n",
              "      <td>65</td>\n",
              "      <td>82</td>\n",
              "      <td>20.714244</td>\n",
              "      <td>15.278241</td>\n",
              "      <td>7.103798</td>\n",
              "      <td>76.778887</td>\n",
              "    </tr>\n",
              "    <tr>\n",
              "      <th>548</th>\n",
              "      <td>93</td>\n",
              "      <td>26</td>\n",
              "      <td>27</td>\n",
              "      <td>24.592457</td>\n",
              "      <td>56.468296</td>\n",
              "      <td>7.288212</td>\n",
              "      <td>137.704405</td>\n",
              "    </tr>\n",
              "    <tr>\n",
              "      <th>549</th>\n",
              "      <td>63</td>\n",
              "      <td>47</td>\n",
              "      <td>35</td>\n",
              "      <td>26.985822</td>\n",
              "      <td>89.055879</td>\n",
              "      <td>7.432768</td>\n",
              "      <td>193.877871</td>\n",
              "    </tr>\n",
              "  </tbody>\n",
              "</table>\n",
              "<p>550 rows × 7 columns</p>\n",
              "</div>"
            ],
            "text/plain": [
              "       N    P    K  temperature   humidity        ph    rainfall\n",
              "0    101   17   47    29.494014  94.729813  6.185053   26.308209\n",
              "1     98    8   51    26.179346  86.522581  6.259336   49.430510\n",
              "2     59   62   49    43.360515  93.351916  6.941497  114.778071\n",
              "3     44   60   55    34.280461  90.555616  6.825371   98.540477\n",
              "4     30  137  200    22.914300  90.704756  5.603413  118.604465\n",
              "..   ...  ...  ...          ...        ...       ...         ...\n",
              "545  100   32   26    25.234661  57.531615  6.043486  124.226174\n",
              "546   50   46   52    31.182984  90.216469  6.734006   54.018724\n",
              "547   30   65   82    20.714244  15.278241  7.103798   76.778887\n",
              "548   93   26   27    24.592457  56.468296  7.288212  137.704405\n",
              "549   63   47   35    26.985822  89.055879  7.432768  193.877871\n",
              "\n",
              "[550 rows x 7 columns]"
            ]
          },
          "metadata": {
            "tags": []
          },
          "execution_count": 60
        }
      ]
    },
    {
      "cell_type": "code",
      "metadata": {
        "colab": {
          "base_uri": "https://localhost:8080/"
        },
        "id": "ZodMSCYkFxfB",
        "outputId": "f52d8dfa-d1f5-4d62-c1fc-08b0f58b1adb"
      },
      "source": [
        "submit_y = knn.predict(submit_data)\n",
        "submit_y"
      ],
      "execution_count": 61,
      "outputs": [
        {
          "output_type": "execute_result",
          "data": {
            "text/plain": [
              "array([15, 21, 17, 17,  0, 12,  0, 13, 14, 10,  2,  4, 19,  8,  4, 19,  0,\n",
              "        6, 17, 15,  5, 17, 16, 17,  3,  8, 14, 16, 18,  8, 19, 13,  8, 10,\n",
              "        8,  2,  8,  3,  3,  9, 17, 12,  2, 11, 14, 11, 18,  4, 15, 11,  2,\n",
              "        5,  7, 14,  5,  9,  6,  0,  1,  2, 21,  4, 10, 16, 17,  2, 16, 20,\n",
              "       15, 18, 15,  4,  8,  1,  2, 17,  1,  6, 21, 16,  5,  3,  8, 13, 16,\n",
              "       12,  5, 13,  2, 19, 11, 13,  6, 17, 18, 13,  9,  5,  2, 10,  4,  8,\n",
              "       16, 15, 21,  9, 21,  1, 18, 13,  1,  8,  6, 19, 18,  3, 11,  4, 19,\n",
              "       20, 18,  7,  2,  4,  3,  2,  4, 11,  1, 13,  1,  9, 19,  3,  4, 16,\n",
              "       18,  1,  1,  0,  9, 15, 14, 13,  4, 11,  0,  4,  9, 13, 14, 10, 21,\n",
              "       14, 18,  2, 18,  9, 11,  8,  3,  0, 16,  6, 20,  4,  7, 10, 21,  7,\n",
              "        7,  2, 19,  3,  4, 11, 10,  7, 21,  8,  5,  5,  9,  8, 13,  9,  1,\n",
              "        9,  4, 17, 17, 14, 12, 19, 21,  9, 11,  0,  2,  3,  7,  7,  1,  6,\n",
              "       20, 19, 14,  1,  8, 14, 11,  3,  3,  3,  0, 20,  9, 17,  5,  2,  9,\n",
              "       12, 12,  4, 17,  0,  3, 19,  3, 15,  0, 15, 15, 12, 12,  6,  4, 19,\n",
              "       20, 15,  5, 17, 10, 11, 12, 15, 18, 14,  5,  7,  4,  6, 18, 20,  0,\n",
              "       19,  5,  3,  6,  8, 12,  1, 17,  0,  3,  8, 18, 13, 14,  8, 19,  7,\n",
              "       13,  8, 11,  4, 11,  3,  1,  8,  4,  8, 12, 15,  0,  1, 18,  2, 16,\n",
              "        3, 21,  1,  0,  3,  5, 18, 16,  0,  4, 17, 21, 13, 17,  3, 19,  3,\n",
              "       17, 10,  0, 19,  3, 12,  3, 19, 21,  9, 14, 15, 21,  9, 15, 12,  8,\n",
              "        2,  3,  1,  2, 18, 17,  9, 14,  4,  6,  7,  0, 10,  1,  8,  0, 19,\n",
              "        0, 14, 15,  5,  8, 18,  8,  9,  1, 11,  8, 11, 18, 12,  9, 19, 21,\n",
              "        2, 11, 20, 13,  9, 12,  6, 17, 13,  6, 14, 16, 20,  2, 14,  5,  1,\n",
              "       18, 17,  0, 19, 11, 12,  4,  0, 10,  8, 13, 10,  4,  2,  8, 14,  6,\n",
              "       21,  0,  7,  4,  7, 21, 20, 12, 12,  5, 19,  1,  7,  8, 16,  6, 12,\n",
              "       17, 15, 13,  8,  3, 13, 19, 21, 13,  6, 17, 21, 10, 20,  4, 13, 13,\n",
              "       11, 20, 11,  4, 16, 19,  9, 21, 14,  2, 20, 20,  6,  6, 18, 16,  2,\n",
              "       10,  1, 12, 11,  0, 19, 12,  6, 14, 18,  3,  0,  5, 18,  8,  8,  8,\n",
              "       17, 10,  7,  8, 16, 14, 12,  9,  7, 14, 16, 18,  1,  8, 18, 19,  5,\n",
              "       15,  2, 17, 17, 19,  9,  3, 14, 14, 12, 18, 15, 12, 13, 18, 15, 20,\n",
              "       19, 15, 18,  0, 14, 20,  9,  0, 20, 12, 17, 13,  6, 19, 18, 17, 10,\n",
              "       11,  3, 15,  6,  9,  3, 14,  5,  5, 16, 21, 16,  7,  5, 18, 12,  0,\n",
              "       12, 19,  5, 18,  5,  7,  6, 19, 17,  0,  2, 18, 21, 17,  2,  7, 10,\n",
              "        8,  5, 17,  3,  5,  8])"
            ]
          },
          "metadata": {
            "tags": []
          },
          "execution_count": 61
        }
      ]
    },
    {
      "cell_type": "code",
      "metadata": {
        "id": "HHHbmKh5F5iz"
      },
      "source": [
        "yo =classle.inverse_transform(submit_y)"
      ],
      "execution_count": 62,
      "outputs": []
    },
    {
      "cell_type": "code",
      "metadata": {
        "colab": {
          "base_uri": "https://localhost:8080/"
        },
        "id": "3M1bFY9iF7uJ",
        "outputId": "c18e6d54-ce95-4778-e8d5-c4d8be6e96f0"
      },
      "source": [
        "yo"
      ],
      "execution_count": 63,
      "outputs": [
        {
          "output_type": "execute_result",
          "data": {
            "text/plain": [
              "array(['muskmelon', 'watermelon', 'papaya', 'papaya', 'apple', 'mango',\n",
              "       'apple', 'mothbeans', 'mungbean', 'lentil', 'blackgram', 'coconut',\n",
              "       'pomegranate', 'jute', 'coconut', 'pomegranate', 'apple', 'cotton',\n",
              "       'papaya', 'muskmelon', 'coffee', 'papaya', 'orange', 'papaya',\n",
              "       'chickpea', 'jute', 'mungbean', 'orange', 'pigeonpeas', 'jute',\n",
              "       'pomegranate', 'mothbeans', 'jute', 'lentil', 'jute', 'blackgram',\n",
              "       'jute', 'chickpea', 'chickpea', 'kidneybeans', 'papaya', 'mango',\n",
              "       'blackgram', 'maize', 'mungbean', 'maize', 'pigeonpeas', 'coconut',\n",
              "       'muskmelon', 'maize', 'blackgram', 'coffee', 'grapes', 'mungbean',\n",
              "       'coffee', 'kidneybeans', 'cotton', 'apple', 'banana', 'blackgram',\n",
              "       'watermelon', 'coconut', 'lentil', 'orange', 'papaya', 'blackgram',\n",
              "       'orange', 'rice', 'muskmelon', 'pigeonpeas', 'muskmelon',\n",
              "       'coconut', 'jute', 'banana', 'blackgram', 'papaya', 'banana',\n",
              "       'cotton', 'watermelon', 'orange', 'coffee', 'chickpea', 'jute',\n",
              "       'mothbeans', 'orange', 'mango', 'coffee', 'mothbeans', 'blackgram',\n",
              "       'pomegranate', 'maize', 'mothbeans', 'cotton', 'papaya',\n",
              "       'pigeonpeas', 'mothbeans', 'kidneybeans', 'coffee', 'blackgram',\n",
              "       'lentil', 'coconut', 'jute', 'orange', 'muskmelon', 'watermelon',\n",
              "       'kidneybeans', 'watermelon', 'banana', 'pigeonpeas', 'mothbeans',\n",
              "       'banana', 'jute', 'cotton', 'pomegranate', 'pigeonpeas',\n",
              "       'chickpea', 'maize', 'coconut', 'pomegranate', 'rice',\n",
              "       'pigeonpeas', 'grapes', 'blackgram', 'coconut', 'chickpea',\n",
              "       'blackgram', 'coconut', 'maize', 'banana', 'mothbeans', 'banana',\n",
              "       'kidneybeans', 'pomegranate', 'chickpea', 'coconut', 'orange',\n",
              "       'pigeonpeas', 'banana', 'banana', 'apple', 'kidneybeans',\n",
              "       'muskmelon', 'mungbean', 'mothbeans', 'coconut', 'maize', 'apple',\n",
              "       'coconut', 'kidneybeans', 'mothbeans', 'mungbean', 'lentil',\n",
              "       'watermelon', 'mungbean', 'pigeonpeas', 'blackgram', 'pigeonpeas',\n",
              "       'kidneybeans', 'maize', 'jute', 'chickpea', 'apple', 'orange',\n",
              "       'cotton', 'rice', 'coconut', 'grapes', 'lentil', 'watermelon',\n",
              "       'grapes', 'grapes', 'blackgram', 'pomegranate', 'chickpea',\n",
              "       'coconut', 'maize', 'lentil', 'grapes', 'watermelon', 'jute',\n",
              "       'coffee', 'coffee', 'kidneybeans', 'jute', 'mothbeans',\n",
              "       'kidneybeans', 'banana', 'kidneybeans', 'coconut', 'papaya',\n",
              "       'papaya', 'mungbean', 'mango', 'pomegranate', 'watermelon',\n",
              "       'kidneybeans', 'maize', 'apple', 'blackgram', 'chickpea', 'grapes',\n",
              "       'grapes', 'banana', 'cotton', 'rice', 'pomegranate', 'mungbean',\n",
              "       'banana', 'jute', 'mungbean', 'maize', 'chickpea', 'chickpea',\n",
              "       'chickpea', 'apple', 'rice', 'kidneybeans', 'papaya', 'coffee',\n",
              "       'blackgram', 'kidneybeans', 'mango', 'mango', 'coconut', 'papaya',\n",
              "       'apple', 'chickpea', 'pomegranate', 'chickpea', 'muskmelon',\n",
              "       'apple', 'muskmelon', 'muskmelon', 'mango', 'mango', 'cotton',\n",
              "       'coconut', 'pomegranate', 'rice', 'muskmelon', 'coffee', 'papaya',\n",
              "       'lentil', 'maize', 'mango', 'muskmelon', 'pigeonpeas', 'mungbean',\n",
              "       'coffee', 'grapes', 'coconut', 'cotton', 'pigeonpeas', 'rice',\n",
              "       'apple', 'pomegranate', 'coffee', 'chickpea', 'cotton', 'jute',\n",
              "       'mango', 'banana', 'papaya', 'apple', 'chickpea', 'jute',\n",
              "       'pigeonpeas', 'mothbeans', 'mungbean', 'jute', 'pomegranate',\n",
              "       'grapes', 'mothbeans', 'jute', 'maize', 'coconut', 'maize',\n",
              "       'chickpea', 'banana', 'jute', 'coconut', 'jute', 'mango',\n",
              "       'muskmelon', 'apple', 'banana', 'pigeonpeas', 'blackgram',\n",
              "       'orange', 'chickpea', 'watermelon', 'banana', 'apple', 'chickpea',\n",
              "       'coffee', 'pigeonpeas', 'orange', 'apple', 'coconut', 'papaya',\n",
              "       'watermelon', 'mothbeans', 'papaya', 'chickpea', 'pomegranate',\n",
              "       'chickpea', 'papaya', 'lentil', 'apple', 'pomegranate', 'chickpea',\n",
              "       'mango', 'chickpea', 'pomegranate', 'watermelon', 'kidneybeans',\n",
              "       'mungbean', 'muskmelon', 'watermelon', 'kidneybeans', 'muskmelon',\n",
              "       'mango', 'jute', 'blackgram', 'chickpea', 'banana', 'blackgram',\n",
              "       'pigeonpeas', 'papaya', 'kidneybeans', 'mungbean', 'coconut',\n",
              "       'cotton', 'grapes', 'apple', 'lentil', 'banana', 'jute', 'apple',\n",
              "       'pomegranate', 'apple', 'mungbean', 'muskmelon', 'coffee', 'jute',\n",
              "       'pigeonpeas', 'jute', 'kidneybeans', 'banana', 'maize', 'jute',\n",
              "       'maize', 'pigeonpeas', 'mango', 'kidneybeans', 'pomegranate',\n",
              "       'watermelon', 'blackgram', 'maize', 'rice', 'mothbeans',\n",
              "       'kidneybeans', 'mango', 'cotton', 'papaya', 'mothbeans', 'cotton',\n",
              "       'mungbean', 'orange', 'rice', 'blackgram', 'mungbean', 'coffee',\n",
              "       'banana', 'pigeonpeas', 'papaya', 'apple', 'pomegranate', 'maize',\n",
              "       'mango', 'coconut', 'apple', 'lentil', 'jute', 'mothbeans',\n",
              "       'lentil', 'coconut', 'blackgram', 'jute', 'mungbean', 'cotton',\n",
              "       'watermelon', 'apple', 'grapes', 'coconut', 'grapes', 'watermelon',\n",
              "       'rice', 'mango', 'mango', 'coffee', 'pomegranate', 'banana',\n",
              "       'grapes', 'jute', 'orange', 'cotton', 'mango', 'papaya',\n",
              "       'muskmelon', 'mothbeans', 'jute', 'chickpea', 'mothbeans',\n",
              "       'pomegranate', 'watermelon', 'mothbeans', 'cotton', 'papaya',\n",
              "       'watermelon', 'lentil', 'rice', 'coconut', 'mothbeans',\n",
              "       'mothbeans', 'maize', 'rice', 'maize', 'coconut', 'orange',\n",
              "       'pomegranate', 'kidneybeans', 'watermelon', 'mungbean',\n",
              "       'blackgram', 'rice', 'rice', 'cotton', 'cotton', 'pigeonpeas',\n",
              "       'orange', 'blackgram', 'lentil', 'banana', 'mango', 'maize',\n",
              "       'apple', 'pomegranate', 'mango', 'cotton', 'mungbean',\n",
              "       'pigeonpeas', 'chickpea', 'apple', 'coffee', 'pigeonpeas', 'jute',\n",
              "       'jute', 'jute', 'papaya', 'lentil', 'grapes', 'jute', 'orange',\n",
              "       'mungbean', 'mango', 'kidneybeans', 'grapes', 'mungbean', 'orange',\n",
              "       'pigeonpeas', 'banana', 'jute', 'pigeonpeas', 'pomegranate',\n",
              "       'coffee', 'muskmelon', 'blackgram', 'papaya', 'papaya',\n",
              "       'pomegranate', 'kidneybeans', 'chickpea', 'mungbean', 'mungbean',\n",
              "       'mango', 'pigeonpeas', 'muskmelon', 'mango', 'mothbeans',\n",
              "       'pigeonpeas', 'muskmelon', 'rice', 'pomegranate', 'muskmelon',\n",
              "       'pigeonpeas', 'apple', 'mungbean', 'rice', 'kidneybeans', 'apple',\n",
              "       'rice', 'mango', 'papaya', 'mothbeans', 'cotton', 'pomegranate',\n",
              "       'pigeonpeas', 'papaya', 'lentil', 'maize', 'chickpea', 'muskmelon',\n",
              "       'cotton', 'kidneybeans', 'chickpea', 'mungbean', 'coffee',\n",
              "       'coffee', 'orange', 'watermelon', 'orange', 'grapes', 'coffee',\n",
              "       'pigeonpeas', 'mango', 'apple', 'mango', 'pomegranate', 'coffee',\n",
              "       'pigeonpeas', 'coffee', 'grapes', 'cotton', 'pomegranate',\n",
              "       'papaya', 'apple', 'blackgram', 'pigeonpeas', 'watermelon',\n",
              "       'papaya', 'blackgram', 'grapes', 'lentil', 'jute', 'coffee',\n",
              "       'papaya', 'chickpea', 'coffee', 'jute'], dtype=object)"
            ]
          },
          "metadata": {
            "tags": []
          },
          "execution_count": 63
        }
      ]
    },
    {
      "cell_type": "code",
      "metadata": {
        "id": "ROIgaO-LF8h5"
      },
      "source": [
        "result =pd.DataFrame({'id':range(0,550),'label' : yo})"
      ],
      "execution_count": 64,
      "outputs": []
    },
    {
      "cell_type": "code",
      "metadata": {
        "id": "Zgva7sr_F_gR"
      },
      "source": [
        "result.to_csv(\"19011847_OH_SEUNG_HYUN4.csv\",index= False)"
      ],
      "execution_count": 66,
      "outputs": []
    },
    {
      "cell_type": "code",
      "metadata": {
        "id": "lZJDsN2NF_-q"
      },
      "source": [
        ""
      ],
      "execution_count": null,
      "outputs": []
    }
  ]
}