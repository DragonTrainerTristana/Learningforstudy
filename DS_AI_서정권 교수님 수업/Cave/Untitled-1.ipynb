{
 "cells": [
  {
   "cell_type": "code",
   "execution_count": null,
   "metadata": {},
   "outputs": [],
   "source": [
    "import sys\n",
    "from random import randint\n",
    "import pygame\n",
    "from pygame.locals import QUIT, Rect, KEYDOWN, K_SPACE\n",
    "\n",
    "pygame.init() \n",
    "pygame.key.set_repeat(5,5)\n",
    "SURFACE = pygame.display.set_mode((800, 600)) # \n",
    "FPSCLOCK = pygame.time.Clock()\n",
    "\n",
    "def main():\n",
    "    \n",
    "    walls = 80\n",
    "    ship_y = 250\n",
    "    velocity = 0\n",
    "    score = 0\n",
    "    slope = randint(1, 6) \n",
    "    sysfont = pygame.font.SysFont(None, 36)\n",
    "    ship_image = pygame.image.load(\"ship.png\")\n",
    "    bang_image = pygame.image.load(\"bang.png\")\n",
    "    holes = []\n",
    "    \n",
    "    for xpos in range(walls):\n",
    "        holes.append(Rect(xpos * 10, 100, 10, 400)) # x,y,가로,세로길이\n",
    "    game_over = False\n",
    "    while True:\n",
    "        is_space_down = False\n",
    "    \n",
    "    \n",
    "    \n",
    "    \n",
    "\n",
    "    \n",
    "    \n",
    "    \n",
    "\n",
    "if __name__ == '__main__':\n",
    "    main()    \n"
   ]
  }
 ],
 "metadata": {
  "language_info": {
   "name": "python"
  },
  "orig_nbformat": 4
 },
 "nbformat": 4,
 "nbformat_minor": 2
}
