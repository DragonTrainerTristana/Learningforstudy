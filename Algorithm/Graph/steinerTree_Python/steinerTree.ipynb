{
 "cells": [
  {
   "cell_type": "code",
   "execution_count": 1,
   "metadata": {},
   "outputs": [],
   "source": [
    "# Library\n",
    "from __future__ import print_function \n",
    "\n",
    "import collections # mapping \n",
    "import itertools # new iteration method for efficiency \n",
    "import random \n",
    "import graphviz # tree 모델 시각화"
   ]
  },
  {
   "cell_type": "code",
   "execution_count": 14,
   "metadata": {},
   "outputs": [
    {
     "data": {
      "text/plain": [
       "<generator object generate at 0x000001C183FC09A0>"
      ]
     },
     "execution_count": 14,
     "metadata": {},
     "output_type": "execute_result"
    }
   ],
   "source": [
    "# CodeTest\n",
    "\n",
    "arbi = [str(i) for i in range(40)]\n",
    "arbi = round(2)\n",
    "arbi = int(round(0.10*(39)*20))\n",
    "arbi\n",
    "\n",
    "def generate(vs):\n",
    "    for i, v0 in enumerate(vs):\n",
    "        for v1 in vs[i + 1 :]:\n",
    "            yield(v0,v1)\n",
    "            \n",
    "vs = [str(i) for i in range(40)]\n",
    "output = generate(vs)\n",
    "output"
   ]
  },
  {
   "cell_type": "code",
   "execution_count": 15,
   "metadata": {},
   "outputs": [],
   "source": [
    "def create_random_graph(n, p): \n",
    "    vs = [str(i) for i in range(n)] # 1 ~ n 까지 str 형식으로 저장\n",
    "    edge_count = int(round(p*(n-1)*n/2))\n",
    "    # Question 1\n",
    "    # 왜 p(n-1)n/2일까\n",
    "    # edge_count는 간선인가?\n",
    "    \n",
    "    es = sample_iterable(generate_all_possible_edge(vs), edge_count)\n",
    "    \n",
    "def generate_all_possible_edge(vs):\n",
    "    for i, v0 in enumerate(vs): # tuple 형식으로 loop문 도는 거\n",
    "        for v1 in vs[i+1:]: # 여기 이해 안됨\n",
    "            yield(v0, v1) # 여기서는 return이랑 같은 역할 \n",
    "            \n",
    "def sample_iterable(iterable, samplesize):\n",
    "    results = []\n",
    "    iterator = iter(iterable)\n",
    "    try:\n",
    "        for _ in range(samplesize):\n",
    "            results.append(next(iterator))\n",
    "    except StopIteration:\n",
    "        raise ValueError('Sample larger than population.')\n",
    "    random.shuffle(results)  # Randomize their positions\n",
    "    for i, v in enumerate(iterator, samplesize):\n",
    "        r = random.randint(0, i)\n",
    "        if r < samplesize:\n",
    "            results[r] = v  # at a decreasing rate, replace random items\n",
    "    return results\n",
    "    "
   ]
  },
  {
   "cell_type": "code",
   "execution_count": 16,
   "metadata": {},
   "outputs": [],
   "source": [
    "# main \n",
    "\n",
    "if __name__ == '__main__':\n",
    "    g = create_random_graph(40,0.10)"
   ]
  },
  {
   "cell_type": "code",
   "execution_count": null,
   "metadata": {},
   "outputs": [],
   "source": []
  }
 ],
 "metadata": {
  "kernelspec": {
   "display_name": "Python 3",
   "language": "python",
   "name": "python3"
  },
  "language_info": {
   "codemirror_mode": {
    "name": "ipython",
    "version": 3
   },
   "file_extension": ".py",
   "mimetype": "text/x-python",
   "name": "python",
   "nbconvert_exporter": "python",
   "pygments_lexer": "ipython3",
   "version": "3.11.2"
  },
  "orig_nbformat": 4
 },
 "nbformat": 4,
 "nbformat_minor": 2
}
