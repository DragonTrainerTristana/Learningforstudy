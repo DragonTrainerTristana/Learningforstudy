{
  "cells": [
    {
      "cell_type": "code",
      "execution_count": 1,
      "metadata": {
        "colab": {},
        "colab_type": "code",
        "id": "HJvGOuBjhu3L"
      },
      "outputs": [],
      "source": [
        "import networkx as nx # 버전 문제좀 해결하기 \n",
        "import numpy as np\n",
        "import matplotlib.pyplot as plt\n",
        "import csv\n",
        "import requests"
      ]
    },
    {
      "cell_type": "code",
      "execution_count": 2,
      "metadata": {
        "colab": {},
        "colab_type": "code",
        "id": "SKGk1yusFydo"
      },
      "outputs": [],
      "source": [
        "\n",
        "# 얘만 쓰기\n",
        "def read_undirected_graph(file_loc, noise):\n",
        "  root = terminal = -1 # [이슈 1번] : 왜 Root = Terminal - 1인가?\n",
        "  \n",
        "  # To READ from GIST #\n",
        "  graph_url_loads = requests.get(file_loc).text.splitlines()\n",
        "  graph_file = csv.reader(graph_url_loads, delimiter=' ')\n",
        "  G = nx.Graph() # nx 버전 문제 해결해야함\n",
        "  \n",
        "  for row in graph_file:\n",
        "    if row[0] == 'E': # 간선 row[1], row[2]는 Node, row[3]은 their own weight + random noise\n",
        "      G.add_edge(int(row[1]), int(row[2]), weight=float(row[3])+ np.random.uniform() * noise)\n",
        "    elif row[0] == 'W': # W는 Node + random noise (prize)\n",
        "      G.add_node(int(row[1]), weight=float(row[2]) + np.random.uniform()*noise, root=0)\n",
        "    elif row[0] == 'T': # Termianl Node (Must be connected, weight = 10000 (억수로 크면 됨)) # URL 상에서는 Termianl Node가 없음, 따라서 내가 수정해야함\n",
        "      G.nodes[int(row[1])]['weight'] = 10000\n",
        "    elif row[0] == 'R': # Root Node (연산 출발 지점 depth = 0)\n",
        "      root = int(row[1]) # 코드 상으로는 1번 Node가 Root로 되어있는데, 바꿔서 convergence 봐야함\n",
        "      G.nodes[root]['root']=1\n",
        "      \n",
        "    #Steiner Node는 밑에서 규정해주는가, 아니면 내가 새로 짜야하는지도 봐야함\n",
        "        \n",
        "  return root, terminal, G\n",
        "\n",
        "\n",
        "\n",
        "\n",
        "# 안씀\n",
        "def read_directed_graph(file_loc, noise):\n",
        "  root = terminal = -1\n",
        "  # To READ from GIST #\n",
        "  graph_url_loads = requests.get(file_loc).text.splitlines()\n",
        "  graph_file = csv.reader(graph_url_loads, delimiter=' ')\n",
        "  G = nx.DiGraph()\n",
        "  for row in graph_file:\n",
        "    if row[0] == 'D':\n",
        "      G.add_edge(int(row[1]), int(row[2]), weight=float(row[3])+ np.random.uniform() * noise)\n",
        "    elif row[0] == 'W':\n",
        "      G.add_node(int(row[1]), weight=float(row[2]) + np.random.uniform()*noise, root=0)\n",
        "    elif row[0] == 'T':\n",
        "      G.nodes[int(row[1])]['weight'] = 10000\n",
        "    elif row[0] == 'R':\n",
        "      root = int(row[1])\n",
        "      G.nodes[root]['root']=1\n",
        "        \n",
        "  return root, terminal, G"
      ]
    },
    {
      "cell_type": "code",
      "execution_count": 3,
      "metadata": {
        "colab": {},
        "colab_type": "code",
        "id": "JEvDb-JJMt1V"
      },
      "outputs": [],
      "source": [
        "url = 'https://gist.githubusercontent.com/tycheyoung/aa658381421811804a350522a9946052/raw/06cba99b3f29cb476fedecbcd1c74bc8e67eb371/example.stp'\n",
        "# url = 'https://gist.githubusercontent.com/tycheyoung/43980844c9ea0db4b34c224efa367a7b/raw/88eff71fd4b53729b8f8a62c81737f8efcf0a6b1/example1.stp'\n",
        "# url = 'https://gist.githubusercontent.com/tycheyoung/57207a5fc3743446fc5fa8dc47b123ff/raw/d1aa58794b7bb9e9b14a3fece6a357bb7ef159fc/example2.stp'\n",
        "root, terminal, graph = read_undirected_graph(url, 0)"
      ]
    },
    {
      "cell_type": "code",
      "execution_count": 224,
      "metadata": {
        "colab": {
          "base_uri": "https://localhost:8080/",
          "height": 248
        },
        "colab_type": "code",
        "id": "gMK-UF7MubKZ",
        "outputId": "362cf4a9-6cb4-4fdd-b276-7b476cca298d"
      },
      "outputs": [
        {
          "data": {
            "image/png": "[encoded data removed]",
            "text/plain": [
              "<Figure size 432x288 with 1 Axes>"
            ]
          },
          "metadata": {
            "tags": []
          },
          "output_type": "display_data"
        }
      ],
      "source": [
        "# [이슈 2번]이거 구버전으로 돌리면 괜찮은데, python 버전 문제인지, networkx 버전 문제인지, 충돌일어나서 좀 해결해야할듯.\n",
        "pos = nx.spring_layout(graph, k = 5/np.sqrt(graph.order())) # https://dustinoprea.com/2015/07/25/using-networkx-to-plot-graphs/\n",
        "edge_labels = { (u,v): d['weight'] for u,v,d in graph.edges(data=True) }\n",
        "nx.draw_networkx(graph,\n",
        "                 pos,\n",
        "                 node_size=500,\n",
        "                 node_color=['orange' if v==1 else 'yellow' for _, v in graph.nodes(data='root')])\n",
        "nx.draw_networkx_edge_labels(graph, pos, edge_labels=edge_labels)\n",
        "plt.axis('off')\n",
        "plt.show()"
      ]
    },
    {
      "cell_type": "code",
      "execution_count": 4,
      "metadata": {
        "colab": {},
        "colab_type": "code",
        "id": "puF5LIoEMfjH"
      },
      "outputs": [],
      "source": [
        "# Initial PARAMETER\n",
        "lbda = 1 # damping\n",
        "iter_num = 15 # Maximum iteration # Tentative Method 적용 가능성도 생각해봐야함 (이전에 말씀해주셨던거)\n",
        "rein = 0 # reinforcement parameter: gamma // 이거 안쓰는듯 \n",
        "neg_inf = -1e10\n",
        "pos_inf = 1e10\n",
        "depth = 5 #(이슈 3번 : Max Search Depth = 5라는 소리인지, 아니면 다른 의미인지 봐야함)"
      ]
    },
    {
      "cell_type": "code",
      "execution_count": 5,
      "metadata": {
        "colab": {},
        "colab_type": "code",
        "id": "c-gqOQZG__6v"
      },
      "outputs": [],
      "source": [
        "node_num = graph.number_of_nodes()\n",
        "adj_matrix = nx.to_numpy_matrix(graph,nodelist=np.arange(1,node_num+1))\n",
        "adj_bool = (adj_matrix == 0) # 0있는 자리가 True\n",
        "ind = np.arange(0, node_num)\n",
        "adj_bool_3d = [adj_bool]*depth"
      ]
    },
    {
      "cell_type": "code",
      "execution_count": 23,
      "metadata": {},
      "outputs": [
        {
          "name": "stdout",
          "output_type": "stream",
          "text": [
            "0.7288441008403219\n",
            "0.9291495598092163\n",
            "0.4291134363329189\n",
            "0.29900300124907164\n",
            "0.6897376810916396\n",
            "0.9890693525973367\n",
            "0.07165529476264043\n",
            "0.37019214541278045\n",
            "0.06036983026072529\n",
            "0.24836562258325168\n"
          ]
        }
      ],
      "source": [
        "for i in range(10):\n",
        "    test = np.random.uniform() * 1\n",
        "    print(test)"
      ]
    },
    {
      "cell_type": "code",
      "execution_count": 28,
      "metadata": {},
      "outputs": [
        {
          "data": {
            "text/plain": [
              "matrix([[0.        , 0.8568028 , 0.78365713, 0.06239933, 0.75239539],\n",
              "        [0.8568028 , 0.        , 0.        , 0.85886967, 0.13433392],\n",
              "        [0.78365713, 0.        , 0.        , 0.57996078, 0.56913198],\n",
              "        [0.06239933, 0.85886967, 0.57996078, 0.        , 0.        ],\n",
              "        [0.75239539, 0.13433392, 0.56913198, 0.        , 0.        ]])"
            ]
          },
          "execution_count": 28,
          "metadata": {},
          "output_type": "execute_result"
        }
      ],
      "source": [
        "# Random UDG\n",
        "# numNode \n",
        "n = 5\n",
        "\n",
        "maxCount = 3\n",
        "randomVal = 0\n",
        "arbi = np.zeros([n,n])\n",
        "for i in range(n):\n",
        "    count = 0\n",
        "    \n",
        "    for j in range(n):\n",
        "        if(arbi[i,j] != 0):\n",
        "            count+=1\n",
        "    \n",
        "    for j in range(n):\n",
        "        if(j == i):\n",
        "            arbi[i,j] = 0\n",
        "        elif (count < 3):\n",
        "            randomVal = np.random.uniform() * 1\n",
        "            if(randomVal > 0.5):\n",
        "                edgeWeight = np.random.uniform() * 1 \n",
        "                #Transpose\n",
        "                arbi[i,j] = edgeWeight\n",
        "                arbi[j,i] = edgeWeight\n",
        "                count+= 1\n",
        "            elif(arbi[i,j] != 0):\n",
        "              pass\n",
        "            \n",
        "          \n",
        "        \n",
        "\n",
        "arbiMat = np.matrix(arbi)\n",
        "arbiMat\n"
      ]
    },
    {
      "cell_type": "code",
      "execution_count": 6,
      "metadata": {
        "colab": {
          "base_uri": "https://localhost:8080/",
          "height": 161
        },
        "colab_type": "code",
        "id": "EHVtl5pt-rr9",
        "outputId": "0f60af8e-d1a4-4751-f450-f6037bc696fc"
      },
      "outputs": [
        {
          "data": {
            "text/plain": [
              "matrix([[0. , 0.3, 0.9, 0.7, 0. , 0. , 0. , 0.8],\n",
              "        [0.3, 0. , 0.4, 0.2, 0. , 0. , 0. , 0. ],\n",
              "        [0.9, 0.4, 0. , 0. , 0.4, 0.3, 0. , 0.3],\n",
              "        [0.7, 0.2, 0. , 0. , 0.5, 0.3, 0.4, 0. ],\n",
              "        [0. , 0. , 0.4, 0.5, 0. , 0. , 0. , 0. ],\n",
              "        [0. , 0. , 0.3, 0.3, 0. , 0. , 0.2, 0. ],\n",
              "        [0. , 0. , 0. , 0.4, 0. , 0.2, 0. , 0. ],\n",
              "        [0.8, 0. , 0.3, 0. , 0. , 0. , 0. , 0. ]])"
            ]
          },
          "execution_count": 6,
          "metadata": {},
          "output_type": "execute_result"
        }
      ],
      "source": [
        "adj_matrix"
      ]
    },
    {
      "cell_type": "code",
      "execution_count": 7,
      "metadata": {
        "colab": {},
        "colab_type": "code",
        "id": "uOK1mTFIAbsT"
      },
      "outputs": [],
      "source": [
        "vertex_weight = np.array(list(dict(graph.nodes(data='weight')).values()), dtype=float) # 얘도 따로 봤으면 좋겠는데 출력만 해보기(위 버전 해결했을 때)\n",
        "adj_matrix = np.ma.array(adj_matrix, mask=(adj_matrix == 0))"
      ]
    },
    {
      "cell_type": "code",
      "execution_count": 8,
      "metadata": {},
      "outputs": [
        {
          "data": {
            "text/plain": [
              "array([1., 1., 1., 1., 1., 1., 1., 1.])"
            ]
          },
          "execution_count": 8,
          "metadata": {},
          "output_type": "execute_result"
        }
      ],
      "source": [
        "vertex_weight"
      ]
    },
    {
      "cell_type": "markdown",
      "metadata": {
        "colab_type": "text",
        "id": "bJSMI-5qlWbb"
      },
      "source": [
        "## Message Definition\n",
        "* $A_{j\\rightarrow i} ^d (t+1) = \\sum_{k \\in N(j) \\backslash i }E_{k\\rightarrow j}^d(t) + \\max_{k \\in N(j) \\backslash i } (A^{d-1}_{k\\rightarrow j}(t)-E^d_{k\\rightarrow j}(t)-s_{j\\rightarrow k}+\\gamma*F_{j\\rightarrow k} ^d(t))$\n",
        "* $B_{j\\rightarrow i}(t) = -s_{j*}+\\sum_{k \\in N(j)\\backslash i}D_{k\\rightarrow j} +\\gamma*G_j$\n",
        "* $C_{j\\rightarrow i} ^d (t+1)=\\ -s_{j\\rightarrow i}+\\sum_{k \\in N(j) \\backslash i }(E^d_{k\\rightarrow j}(t))+\\gamma*F_{j\\rightarrow i} ^d(t)$\n",
        "* $D_{j\\rightarrow i}(t) = \\max(\\max_{d}A_{j\\rightarrow i}^d(t), B_{j\\rightarrow i}(t))$\n",
        "* $E_{j\\rightarrow i} ^d (t+1)= \\max (C_{j\\rightarrow i}^d(t+1), A_{j\\rightarrow i}^d(t+1))$\n",
        "* $G_{j}(t+1) = -s_{j*}+\\sum_{k \\in N(j)} D_{k\\rightarrow j}(t)+\\gamma*G_j(t)$\n",
        "* $F_{j\\rightarrow i}^d (t+1)  = \\sum_{k \\in N(j)} E_{k\\rightarrow j}(t) -s_{j\\rightarrow i} - E_{i\\rightarrow j}^d(t) +A_{ij}^{d-1}(t)+\\gamma*F_{j\\rightarrow i} ^d(t) = C_{j\\rightarrow i} ^d (t+1) + A_{i\\rightarrow j}^{d-1}(t)$"
      ]
    },
    {
      "cell_type": "code",
      "execution_count": null,
      "metadata": {
        "colab": {},
        "colab_type": "code",
        "id": "s4BiZx9damrh"
      },
      "outputs": [],
      "source": [
        "# Message Initialization\n",
        "# Assume every messeage matrix is inversed in initial! (except d; j->i)\n",
        "A = np.ma.array(-np.random.rand(depth, node_num, node_num), mask=adj_bool_3d)\n",
        "B = np.ma.array(-np.random.rand(node_num, node_num), mask=adj_bool)\n",
        "C = np.ma.array(np.full((depth, node_num, node_num), neg_inf), mask=adj_bool_3d)\n",
        "D = np.ma.array(np.maximum(np.amax(A,axis=0), B))\n",
        "\n",
        "E = np.ma.zeros((depth, node_num, node_num)) # Needs optimization\n",
        "for d in range(0, depth, 1):\n",
        "  if d == depth-1:\n",
        "    E[d,:,:] = np.copy(D)\n",
        "  else:\n",
        "    E[d,:,:] = np.maximum(-np.random.rand(node_num, node_num), D)\n",
        "\n",
        "G = np.zeros(node_num)\n",
        "F = np.ma.array(np.zeros((depth, node_num, node_num)), mask=adj_bool_3d)"
      ]
    },
    {
      "cell_type": "code",
      "execution_count": null,
      "metadata": {
        "colab": {},
        "colab_type": "code",
        "id": "HzyHPMSfQYrT"
      },
      "outputs": [],
      "source": [
        "# ROOT 인덱스에 대해 전처리\n",
        "B[:,root-1].fill(neg_inf)\n",
        "A[:,:,root-1].fill(neg_inf)\n",
        "A[0,:,root-1].fill(0)\n",
        "E[:,:,root-1].fill(0)\n",
        "D[:,root-1].fill(0)"
      ]
    },
    {
      "cell_type": "code",
      "execution_count": null,
      "metadata": {
        "colab": {},
        "colab_type": "code",
        "id": "mmwozA3KOJv4"
      },
      "outputs": [],
      "source": [
        "adj_matrix = np.array(adj_matrix.transpose()) ## s_{j->i}\n",
        "# Variable Definition: A[d,j,i]\n",
        "sumE = np.ma.array(np.zeros((depth, node_num, node_num)), mask=adj_bool_3d)"
      ]
    },
    {
      "cell_type": "code",
      "execution_count": null,
      "metadata": {
        "colab": {},
        "colab_type": "code",
        "id": "1LT7UO7sDWOE"
      },
      "outputs": [],
      "source": [
        "for _ in range(0, iter_num, 1): \n",
        "  old_A=np.ma.copy(A)\n",
        "  \n",
        "  for d in range(0, depth, 1): # depth zero is root, depth-1 is terminal;\n",
        "    sumE[d,:,:] = np.ma.array(np.tile(np.sum(E[d,:,:].transpose(),axis=0),(node_num,1)), mask=adj_bool) # k->j\n",
        "    \n",
        "    if d == 0:\n",
        "      cEA = np.ma.array(np.full((node_num, node_num), neg_inf), mask=adj_bool)\n",
        "    else:\n",
        "      cEA = old_A[d-1,:,:].transpose()-E[d,:,:].transpose()-adj_matrix+rein*F[d,:,:]\n",
        "    \n",
        "    # remove elements that column position is equivalent to maximum position (max within row)\n",
        "    I = np.argmax(cEA, axis=0)\n",
        "    Y = cEA[I,ind]\n",
        "    maxcEA=np.ma.array(np.tile(Y,(node_num,1)), mask=adj_bool)\n",
        "    cEA[I,ind] = neg_inf\n",
        "    Y2 = np.max(cEA, axis=0)\n",
        "    maxcEA[I,ind] = Y2\n",
        "\n",
        "    sumEp=sumE[d,:,:]-E[d,:,:].transpose()\n",
        "    A[d,:,:] = sumEp + maxcEA\n",
        "\n",
        "  A[:,:,root-1].fill(neg_inf)\n",
        "  A[0,:,root-1].fill(0)\n",
        "\n",
        "  Dt = D.transpose() # i->j\n",
        "  sumD_before_tile = np.sum(Dt,axis=0)\n",
        "  sumD = np.ma.array(np.tile(sumD_before_tile,(node_num, 1)), mask=adj_bool) # k->j\n",
        "  sumDp = sumD - Dt # k->j\n",
        "  \n",
        "  B = -vertex_weight+sumDp+rein*G # vertex_weight & G: broadcast!\n",
        "  B[:,root-1].fill(neg_inf)\n",
        "  \n",
        "  D = np.maximum(np.amax(A,axis=0), B) # D(t+1)\n",
        "  D[:,root-1].fill(0)\n",
        "  \n",
        "  for d in range(depth-1, -1, -1):\n",
        "    C[d,:,:] = -adj_matrix + sumE[d,:,:]-E[d,:,:].transpose() + rein*F[d,:,:] # C(t+1)\n",
        "    C[d,:,root-1].fill(neg_inf)\n",
        "    \n",
        "    if d == depth-1 or d == 0:\n",
        "      E[d,:,:] = np.copy(D)\n",
        "    else:\n",
        "      E[d,:,:] = np.maximum(C[d+1,:,:], D)  # E(t+1)\n",
        "    \n",
        "    if d == 0:\n",
        "      F[d,:,:].fill(neg_inf)\n",
        "    else:\n",
        "      F[d,:,:] = C[d,:,:] + old_A[d-1,:,:].transpose()\n",
        "  E[:,:,root-1].fill(0)\n",
        "  F[:,:,root-1].fill(0)\n",
        "\n",
        "  # reduce\n",
        "  m = np.maximum(np.amax(A,axis=0),np.amax(E,axis=0))\n",
        "  m = np.maximum(m,B)\n",
        "  m = np.maximum(m,D)\n",
        "  D -= m\n",
        "  B -= m\n",
        "  A -= m # depth-wise\n",
        "  E -= m # depth-wise\n",
        "  \n",
        "  G = -vertex_weight + sumD_before_tile + rein*G # s_{c,null}\n",
        "  G[root-1] = 0\n",
        "  \n",
        "  D[:,root-1].fill(0)\n",
        "  B[:,root-1].fill(neg_inf)\n",
        "  A[:,:,root-1].fill(neg_inf)\n",
        "  A[0,:,root-1].fill(0)\n",
        "  E[:,:,root-1].fill(0)\n",
        "  # CHALLENGE: node weight-> varies by depth"
      ]
    },
    {
      "cell_type": "code",
      "execution_count": null,
      "metadata": {
        "colab": {},
        "colab_type": "code",
        "id": "E_msLFOKjzZM"
      },
      "outputs": [],
      "source": [
        "# marginal\n",
        "dF=np.amax(F,axis=0)  #maximum depth-wise; j->i\n",
        "maxtot=np.max(dF,axis=0)  #maximum F; any node that pointing i\n",
        "maxtot=np.tile(maxtot, (node_num,1))\n",
        "maxtoedge=np.argmax(dF,axis=0)\n",
        "\n",
        "alive_edge = (maxtot > np.tile(G[:,None],(1, node_num))) #G의 각 row는 모두 동일-> column 추출\n",
        "alive_edge[root-1] = False\n",
        "alive_edge = (alive_edge) & ~(adj_bool)\n",
        "\n",
        "rows, cols = np.where(alive_edge==True)\n",
        "acceptable_edges = [(x, y) for x, y in zip(rows+1, cols+1)]"
      ]
    },
    {
      "cell_type": "code",
      "execution_count": null,
      "metadata": {
        "colab": {},
        "colab_type": "code",
        "id": "hSbDMAcNxBsN"
      },
      "outputs": [],
      "source": [
        "eligible_edges = [(x, y) for x, y in zip(ind+1, maxtoedge+1)]\n",
        "eligible_edges.pop(root-1) # (root-1) position in maxtoedge should be blocked!\n",
        "tree_edges = list(set(eligible_edges).intersection(acceptable_edges))"
      ]
    },
    {
      "cell_type": "code",
      "execution_count": 235,
      "metadata": {
        "colab": {
          "base_uri": "https://localhost:8080/",
          "height": 248
        },
        "colab_type": "code",
        "id": "L9W2ZE8uk9jQ",
        "outputId": "c73110f6-e168-41c3-fc6f-a9b9dc5ef25e"
      },
      "outputs": [
        {
          "data": {
            "image/png": "[encoded data removed]",
            "text/plain": [
              "<Figure size 432x288 with 1 Axes>"
            ]
          },
          "metadata": {
            "tags": []
          },
          "output_type": "display_data"
        }
      ],
      "source": [
        "# 원래 그래프의 subgraph인 H 그리기\n",
        "H = graph.edge_subgraph(tree_edges)\n",
        "H_edge_labels = { (u,v): d['weight'] for u,v,d in H.edges(data=True) }\n",
        "nx.draw_networkx(H,\n",
        "                 pos,\n",
        "                 node_size=500,\n",
        "                 node_color=['orange' if v==1 else 'yellow' for _, v in graph.nodes(data='root')])\n",
        "nx.draw_networkx_edge_labels(H, pos, edge_labels = H_edge_labels)\n",
        "plt.axis('off')\n",
        "plt.show()"
      ]
    },
    {
      "cell_type": "code",
      "execution_count": 236,
      "metadata": {
        "colab": {
          "base_uri": "https://localhost:8080/",
          "height": 53
        },
        "colab_type": "code",
        "id": "iewzv3-B9lvZ",
        "outputId": "de3d89d3-655e-48be-d344-d81d9021747a"
      },
      "outputs": [
        {
          "name": "stdout",
          "output_type": "stream",
          "text": [
            "True\n",
            "2.1\n"
          ]
        }
      ],
      "source": [
        "print(nx.is_tree(H)) # 결과가 트리인지 검사\n",
        "print(H.size(weight='weight'))  # 결과의 cost 계산"
      ]
    },
    {
      "cell_type": "code",
      "execution_count": 238,
      "metadata": {
        "colab": {
          "base_uri": "https://localhost:8080/",
          "height": 35
        },
        "colab_type": "code",
        "id": "egpySrjCrxIJ",
        "outputId": "a0698a63-0954-4cd2-a4a8-8e52a5a5e0af"
      },
      "outputs": [
        {
          "name": "stdout",
          "output_type": "stream",
          "text": [
            "[0.0 -1.4 -1.6 -1.2 -1.0 -1.3 -1.2 -1.1]\n"
          ]
        }
      ],
      "source": [
        "print(G)"
      ]
    }
  ],
  "metadata": {
    "colab": {
      "collapsed_sections": [],
      "name": "ap-steiner.ipynb",
      "provenance": [],
      "version": "0.3.2"
    },
    "kernelspec": {
      "display_name": "Python 3",
      "name": "python3"
    },
    "language_info": {
      "codemirror_mode": {
        "name": "ipython",
        "version": 3
      },
      "file_extension": ".py",
      "mimetype": "text/x-python",
      "name": "python",
      "nbconvert_exporter": "python",
      "pygments_lexer": "ipython3",
      "version": "3.11.2"
    }
  },
  "nbformat": 4,
  "nbformat_minor": 0
}
