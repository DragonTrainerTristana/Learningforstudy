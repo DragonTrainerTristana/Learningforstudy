{
 "cells": [
  {
   "cell_type": "code",
   "execution_count": 43,
   "metadata": {},
   "outputs": [],
   "source": [
    "import numpy as np"
   ]
  },
  {
   "cell_type": "code",
   "execution_count": 44,
   "metadata": {},
   "outputs": [],
   "source": [
    "# Declare Variables and matrix\n",
    "\n",
    "# Variables\n",
    "infinity = pow(10,60)\n",
    "damping = 1.0\n",
    "ppg = 4 # 4 by 4 people per group\n",
    "w = np.random.randint(1,10,(ppg,ppg)) # weight matrix\n",
    "\n",
    "# Matrix\n",
    "alpha = np.zeros((ppg,ppg))\n",
    "rho = np.zeros((ppg,ppg))\n",
    "eta = np.zeros((ppg,ppg))\n",
    "beta = np.zeros((ppg,ppg))"
   ]
  },
  {
   "cell_type": "code",
   "execution_count": 45,
   "metadata": {},
   "outputs": [
    {
     "data": {
      "text/plain": [
       "array([[8, 2, 2, 5],\n",
       "       [6, 8, 5, 3],\n",
       "       [9, 5, 9, 6],\n",
       "       [4, 8, 6, 5]])"
      ]
     },
     "execution_count": 45,
     "metadata": {},
     "output_type": "execute_result"
    }
   ],
   "source": [
    "w"
   ]
  },
  {
   "cell_type": "code",
   "execution_count": 46,
   "metadata": {},
   "outputs": [],
   "source": [
    "class MaxSumAlgorithm:\n",
    "    \n",
    "    def __init__ (self):\n",
    "        pass\n",
    "    def update_alpha():\n",
    "        global alpha\n",
    "        old = np.copy(alpha)\n",
    "        new = np.copy(alpha)\n",
    "        for i in range(0,ppg):\n",
    "            for j in range(0, ppg):\n",
    "                tmp = np.copy(rho)\n",
    "                tmp[i,j] = -infinity\n",
    "                new[i,j] = -tmp[i, :].max()\n",
    "        alpha = damping*new + (1-damping)*old\n",
    "        pass\n",
    "    def update_beta():\n",
    "        global beta\n",
    "        old = np.copy(beta)\n",
    "        new = np.copy(beta)\n",
    "        for i in range(0,ppg):\n",
    "            for j in range(0,ppg):\n",
    "                tmp = np.copy(eta)\n",
    "                tmp[i,j] = -infinity\n",
    "                new[i,j] = -tmp[:,j].max()\n",
    "        beta = damping*new + (1-damping)*old   \n",
    "        pass\n",
    "    def update_rho():\n",
    "        global rho \n",
    "        old = np.copy(rho)\n",
    "        new = w+alpha\n",
    "        rho = damping*new + (1-damping)*old\n",
    "        pass\n",
    "    def update_eta():\n",
    "        global eta \n",
    "        old = np.copy(eta)\n",
    "        new = w + beta\n",
    "        eta = damping*new + (1-damping)*old\n",
    "        pass\n",
    "    "
   ]
  },
  {
   "cell_type": "code",
   "execution_count": 47,
   "metadata": {},
   "outputs": [],
   "source": [
    "def __init__ (self):\n",
    "    pass\n",
    "def update_alpha():\n",
    "    global alpha\n",
    "    old = np.copy(alpha)\n",
    "    new = np.copy(alpha)\n",
    "    for i in range(0,ppg):\n",
    "        for j in range(0, ppg):\n",
    "            tmp = np.copy(rho)\n",
    "            tmp[i,j] = -infinity\n",
    "            new[i,j] = -tmp[i, :].max()\n",
    "    alpha = damping*new + (1-damping)*old\n",
    "    pass\n",
    "def update_beta():\n",
    "    global beta\n",
    "    old = np.copy(beta)\n",
    "    new = np.copy(beta)\n",
    "    for i in range(0,ppg):\n",
    "        for j in range(0,ppg):\n",
    "            tmp = np.copy(eta)\n",
    "            tmp[i,j] = -infinity\n",
    "            new[i,j] = -tmp[:,j].max()\n",
    "    beta = damping*new + (1-damping)*old   \n",
    "    pass\n",
    "def update_rho():\n",
    "    global rho \n",
    "    old = np.copy(rho)\n",
    "    new = w+alpha\n",
    "    rho = damping*new + (1-damping)*old\n",
    "    pass\n",
    "def update_eta():\n",
    "    global eta \n",
    "    old = np.copy(eta)\n",
    "    new = w + beta\n",
    "    eta = damping*new + (1-damping)*old\n",
    "    pass"
   ]
  },
  {
   "cell_type": "code",
   "execution_count": 48,
   "metadata": {},
   "outputs": [],
   "source": [
    "ms = MaxSumAlgorithm()\n",
    "\n",
    "for i in range(10):\n",
    "    update_alpha()\n",
    "    update_rho()\n",
    "    update_beta()\n",
    "    update_eta()"
   ]
  },
  {
   "cell_type": "code",
   "execution_count": 49,
   "metadata": {},
   "outputs": [
    {
     "name": "stdout",
     "output_type": "stream",
     "text": [
      "[[ 30. -36. -36. -30.]\n",
      " [-20.  20. -22. -26.]\n",
      " [  0.  -8.   0.  -6.]\n",
      " [-24.  20. -20. -22.]]\n"
     ]
    }
   ],
   "source": [
    "print(rho+alpha+w)"
   ]
  },
  {
   "cell_type": "code",
   "execution_count": 50,
   "metadata": {},
   "outputs": [
    {
     "name": "stdout",
     "output_type": "stream",
     "text": [
      "Match result: \n",
      " [[1. 0. 0. 0.]\n",
      " [0. 1. 0. 0.]\n",
      " [1. 0. 0. 0.]\n",
      " [0. 1. 0. 0.]]\n"
     ]
    }
   ],
   "source": [
    "D = rho+alpha+w\n",
    "for i in range (0,ppg):\n",
    "    for j in range (0,ppg):\n",
    "        if(D[i,j]==D[i,:].max()):\n",
    "            D[i,:] = 0\n",
    "            D[i,j] = 1\n",
    "            \n",
    "print(\"Match result: \\n\",D)"
   ]
  },
  {
   "cell_type": "code",
   "execution_count": null,
   "metadata": {},
   "outputs": [],
   "source": []
  }
 ],
 "metadata": {
  "kernelspec": {
   "display_name": "Python 3",
   "language": "python",
   "name": "python3"
  },
  "language_info": {
   "codemirror_mode": {
    "name": "ipython",
    "version": 3
   },
   "file_extension": ".py",
   "mimetype": "text/x-python",
   "name": "python",
   "nbconvert_exporter": "python",
   "pygments_lexer": "ipython3",
   "version": "3.11.2"
  },
  "orig_nbformat": 4
 },
 "nbformat": 4,
 "nbformat_minor": 2
}
