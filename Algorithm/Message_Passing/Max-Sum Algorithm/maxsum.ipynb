{
 "cells": [
  {
   "cell_type": "code",
   "execution_count": 157,
   "metadata": {},
   "outputs": [
    {
     "name": "stdout",
     "output_type": "stream",
     "text": [
      "w:\n",
      " [[2 7 6 5]\n",
      " [5 3 4 5]\n",
      " [1 4 5 6]\n",
      " [1 7 8 1]]\n"
     ]
    }
   ],
   "source": [
    "import numpy as np\n",
    "#np.random.seed(seed=1)\n",
    "\n",
    "inf = pow(10,60)\n",
    "damping = 1.0 # ratio of the new values\n",
    "ppg = 4 #people per group\n",
    "w = np.random.randint(1,10,(ppg,ppg))\n",
    "# w = np.array([[8,2,8,1],[7,8,7,2],[1,2,9,9],[4,9,8,4]])\n",
    "print(\"w:\\n\",w)\n",
    "\n",
    "alpha = np.zeros((ppg,ppg))\n",
    "rho = np.zeros((ppg,ppg))\n",
    "eta = np.zeros((ppg,ppg))\n",
    "beta = np.zeros((ppg,ppg))\n",
    "\n",
    "#variables: local for read-only, global for updating \n",
    "# def update_beta():\n",
    "#     global beta \n",
    "#     old = np.copy(beta)\n",
    "#     new = np.copy(beta)\n",
    "#     for i in range(0,ppg):\n",
    "#         for j in range(0,ppg):\n",
    "#             tmp = np.copy(w+alpha)\n",
    "#             tmp[i,j] = -inf\n",
    "#             new[i,j] = w[i,j] - tmp[i,:].max()\n",
    "#     beta = damping*new + (1-damping)*old\n",
    "    \n",
    "# def update_rho():\n",
    "#     global rho \n",
    "#     old = np.copy(rho)\n",
    "#     new = np.copy(rho)\n",
    "#     for i in range(0,ppg):\n",
    "#         for j in range(0,ppg):\n",
    "#             tmp = np.copy(w+eta)\n",
    "#             tmp[i,j] = -inf\n",
    "#             new[i,j] = w[i,j] - tmp[i,:].max()\n",
    "#     rho = damping*new + (1-damping)*old\n",
    "    \n",
    "def update_beta():\n",
    "    global beta \n",
    "    old = np.copy(beta)\n",
    "    new = w+alpha\n",
    "    beta = damping*new + (1-damping)*old\n",
    "    \n",
    "def update_rho():\n",
    "    global rho \n",
    "    old = np.copy(rho)\n",
    "    new = w+eta\n",
    "    rho = damping*new + (1-damping)*old\n",
    "    \n",
    "def update_alpha():\n",
    "    global alpha\n",
    "    old = np.copy(alpha)\n",
    "    new = np.copy(alpha)\n",
    "    for i in range(0,ppg):\n",
    "        for j in range(0,ppg):\n",
    "            tmp = np.copy(rho)\n",
    "            tmp[i,j] = -inf\n",
    "            new[i,j] = -tmp[i,:].max()\n",
    "    alpha = damping*new + (1-damping)*old\n",
    "    \n",
    "def update_eta():\n",
    "    global eta\n",
    "    old = np.copy(eta)\n",
    "    new = np.copy(eta)\n",
    "    for i in range(0,ppg):\n",
    "        for j in range(0,ppg):\n",
    "            tmp = np.copy(beta)\n",
    "            tmp[i,j] = -inf\n",
    "            new[i,j] = -tmp[:,j].max()\n",
    "    eta = damping*new + (1-damping)*old\n",
    "    "
   ]
  },
  {
   "cell_type": "code",
   "execution_count": 158,
   "metadata": {},
   "outputs": [],
   "source": [
    "for i in range (0,10):\n",
    "    \n",
    "    update_alpha()\n",
    "    update_eta()\n",
    "    update_rho()\n",
    "    update_beta()\n",
    "    \n",
    "#     print(\"rho:\\n\",rho)\n",
    "#     print(\"beta:\\n\",beta)\n",
    "#     print(\"alpha:\\n\",alpha)\n",
    "#     print(\"eta:\\n\",eta)"
   ]
  },
  {
   "cell_type": "code",
   "execution_count": 159,
   "metadata": {
    "scrolled": false
   },
   "outputs": [
    {
     "name": "stdout",
     "output_type": "stream",
     "text": [
      "[[-19.   2. -16. -17.]\n",
      " [  6. -20. -19. -18.]\n",
      " [-19. -17. -16.   4.]\n",
      " [-20. -15.   3. -21.]]\n"
     ]
    }
   ],
   "source": [
    "print(eta+alpha+w)"
   ]
  },
  {
   "cell_type": "code",
   "execution_count": 160,
   "metadata": {},
   "outputs": [
    {
     "name": "stdout",
     "output_type": "stream",
     "text": [
      "Match result: \n",
      " [[0. 1. 0. 0.]\n",
      " [1. 0. 0. 0.]\n",
      " [0. 0. 0. 1.]\n",
      " [0. 0. 1. 0.]]\n"
     ]
    }
   ],
   "source": [
    "D = eta+alpha+w\n",
    "for i in range (0,ppg):\n",
    "    for j in range (0,ppg):\n",
    "        if(D[i,j]==D[i,:].max()):\n",
    "            D[i,:] = 0\n",
    "            D[i,j] = 1\n",
    "            \n",
    "print(\"Match result: \\n\",D)"
   ]
  },
  {
   "cell_type": "code",
   "execution_count": null,
   "metadata": {},
   "outputs": [],
   "source": []
  },
  {
   "cell_type": "code",
   "execution_count": null,
   "metadata": {},
   "outputs": [],
   "source": []
  },
  {
   "cell_type": "code",
   "execution_count": null,
   "metadata": {},
   "outputs": [],
   "source": []
  }
 ],
 "metadata": {
  "kernelspec": {
   "display_name": "Python 3",
   "language": "python",
   "name": "python3"
  },
  "language_info": {
   "codemirror_mode": {
    "name": "ipython",
    "version": 3
   },
   "file_extension": ".py",
   "mimetype": "text/x-python",
   "name": "python",
   "nbconvert_exporter": "python",
   "pygments_lexer": "ipython3",
   "version": "3.8.6"
  }
 },
 "nbformat": 4,
 "nbformat_minor": 2
}
